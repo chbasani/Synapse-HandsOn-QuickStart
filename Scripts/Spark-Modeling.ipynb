{
  "metadata": {
    "saveOutput": true,
    "language_info": {
      "name": "python"
    }
  },
  "nbformat": 4,
  "nbformat_minor": 2,
  "cells": [
    {
      "cell_type": "markdown",
      "metadata": {},
      "source": [
        "**Regression analysis Chbasani Apr 13,2020**\n",
        "# NYC taxi data\n",
        "# Only training"
      ],
      "attachments": {}
    },
    {
      "cell_type": "code",
      "execution_count": 7,
      "outputs": [],
      "metadata": {},
      "source": [
        "import numpy as np\n",
        "import matplotlib.pyplot as plt  # To visualize\n",
        "import pandas as pd  # To read data\n",
        "from sklearn.linear_model import LinearRegression"
      ],
      "attachments": {}
    },
    {
      "cell_type": "code",
      "execution_count": null,
      "outputs": [],
      "metadata": {},
      "source": [
        "#data = pd.read_json('https://data.cityofnewyork.us/resource/biws-g3hs.json')  # load data set\n",
        "#X = data.iloc[:, 0].values.reshape(-1, 1)  # values converts it into a numpy array\n",
        "#Y = data.iloc[:, 1].values.reshape(-1, 1)  # -1 means that calculate the dimension of rows, but have 1 column\n",
        "#linear_regressor = LinearRegression()  # create object for the class\n",
        "#linear_regressor.fit(X, Y)  # perform linear regression\n",
        "#Y_pred = linear_regressor.predict(X)  # make predictions"
      ],
      "attachments": {}
    },
    {
      "cell_type": "markdown",
      "metadata": {},
      "source": [
        "## Regression analysis Chbasani Apr 13,2020\n",
        "\n",
        "NYC taxi data\n",
        "training - test - validate\n",
        ""
      ],
      "attachments": {}
    },
    {
      "cell_type": "markdown",
      "metadata": {},
      "source": [
        "## Step 1 \n",
        "Read the json data"
      ],
      "attachments": {}
    },
    {
      "cell_type": "code",
      "execution_count": 9,
      "outputs": [
        {
          "output_type": "execute_result",
          "execution_count": 9,
          "data": {
            "text/plain": "dolocationid  extra    ...     trip_distance  vendorid\n0           237    0.0    ...              0.76         2\n1           141    0.0    ...              0.60         1\n2           170    0.0    ...              0.44         2\n3           234    0.0    ...              1.54         2\n4           164    0.0    ...              0.33         2\n\n[5 rows x 17 columns]"
          },
          "metadata": {}
        }
      ],
      "metadata": {},
      "source": [
        "nyctaxi = pd.read_json('https://data.cityofnewyork.us/resource/biws-g3hs.json')  # load data set\n",
        "nyctaxi.head(5)"
      ],
      "attachments": {}
    },
    {
      "cell_type": "markdown",
      "metadata": {},
      "source": [
        "## Step 2\n",
        "Drop the columns\n",
        ""
      ],
      "attachments": {}
    },
    {
      "cell_type": "code",
      "execution_count": 10,
      "outputs": [
        {
          "output_type": "execute_result",
          "execution_count": 10,
          "data": {
            "text/plain": "total_amount  trip_distance\n0          9.30           0.76\n1          7.55           0.60\n2          7.56           0.44\n3          7.30           1.54\n4          5.30           0.33"
          },
          "metadata": {}
        }
      ],
      "metadata": {},
      "source": [
        "'''\n",
        "{\"vendorid\":\"2\",\n",
        "\"tpep_pickup_datetime\":\"2017-12-01T07:04:55.000\",\n",
        "\"tpep_dropoff_datetime\":\"2017-12-01T07:15:47.000\",\n",
        "\"passenger_count\":\"1\",\n",
        "\"trip_distance\":\"1.45\",\n",
        "\"ratecodeid\":\"1\",\n",
        "\"store_and_fwd_flag\":\"N\",\n",
        "\"pulocationid\":\"164\",\n",
        "\"dolocationid\":\"50\",\n",
        "\"payment_type\":\"2\",\n",
        "\"fare_amount\":\"9\",\n",
        "\"extra\":\"0\",\n",
        "\"mta_tax\":\"0.5\",\n",
        "\"tip_amount\":\"0\",\n",
        "\"tolls_amount\":\"0\",\n",
        "\"improvement_surcharge\":\"0.3\",\n",
        "\"total_amount\":\"9.8\"}\n",
        "'''\n",
        "\n",
        "columns_to_remove = [\"vendorid\",\"tpep_pickup_datetime\",\"tpep_dropoff_datetime\",\n",
        "\"passenger_count\",\"ratecodeid\",\"store_and_fwd_flag\",\"pulocationid\",\"dolocationid\",\"payment_type\",\"fare_amount\",\"extra\",\"mta_tax\",\n",
        "\"tip_amount\",\"tolls_amount\",\"improvement_surcharge\"]\n",
        "                  \n",
        "for col in columns_to_remove:\n",
        "    nyctaxi.pop(col)\n",
        "\n",
        "nyctaxi.head(5)"
      ],
      "attachments": {}
    },
    {
      "cell_type": "code",
      "execution_count": 11,
      "outputs": [
        {
          "output_type": "execute_result",
          "execution_count": 11,
          "data": {
            "text/plain": "total_amount  trip_distance\ncount   1000.000000    1000.000000\nmean      16.794290       2.676580\nstd       14.177461       3.652278\nmin        0.000000       0.000000\n25%        8.760000       0.900000\n50%       12.350000       1.400000\n75%       18.560000       2.500000\nmax      115.860000      23.800000"
          },
          "metadata": {}
        }
      ],
      "metadata": {},
      "source": [
        "nyctaxi.describe()"
      ],
      "attachments": {}
    },
    {
      "cell_type": "markdown",
      "metadata": {},
      "source": [
        "## Step 3 \n",
        "Manipulation / Cleanup\n",
        ""
      ],
      "attachments": {}
    },
    {
      "cell_type": "code",
      "execution_count": 12,
      "outputs": [],
      "metadata": {},
      "source": [
        "#final_df = nyctaxi.query(\"pickupLatitude>=40.53 and pickupLatitude<=40.88\")\n",
        "#final_df = final_df.query(\"pickupLongitude>=-74.09 and pickupLongitude<=-73.72\")\n",
        "final_df = nyctaxi.query(\"trip_distance>=0.25 and trip_distance<31\")\n",
        "final_df = final_df.query(\" total_amount>0\")\n",
        "\n",
        ""
      ],
      "attachments": {}
    },
    {
      "cell_type": "markdown",
      "metadata": {},
      "source": [
        "## Step 4\n",
        "final dataset for modeling\n",
        ""
      ],
      "attachments": {}
    },
    {
      "cell_type": "code",
      "execution_count": 13,
      "outputs": [
        {
          "output_type": "execute_result",
          "execution_count": 13,
          "data": {
            "text/plain": "total_amount  trip_distance\ncount    976.000000     976.000000\nmean      17.018525       2.740359\nstd       14.143689       3.673804\nmin        3.800000       0.300000\n25%        8.800000       0.900000\n50%       12.530000       1.400000\n75%       18.800000       2.505000\nmax      115.860000      23.800000"
          },
          "metadata": {}
        }
      ],
      "metadata": {},
      "source": [
        "final_df.describe()"
      ],
      "attachments": {}
    },
    {
      "cell_type": "markdown",
      "metadata": {},
      "source": [
        "## Step 5 \n",
        "Split dataset to train and test\n",
        ""
      ],
      "attachments": {}
    },
    {
      "cell_type": "code",
      "execution_count": 14,
      "outputs": [],
      "metadata": {},
      "source": [
        "from sklearn.model_selection import train_test_split\n",
        "\n",
        "y_df = final_df.pop(\"total_amount\")\n",
        "x_df = final_df\n",
        "\n",
        "x_train, x_test, y_train, y_test = train_test_split(x_df, y_df, test_size=0.2, random_state=223)"
      ],
      "attachments": {}
    },
    {
      "cell_type": "markdown",
      "metadata": {},
      "source": [
        "## Step 6 \n",
        "Linear Regression model on the training data. \n",
        "Predict using the model on the test data \n",
        ""
      ],
      "attachments": {}
    },
    {
      "cell_type": "code",
      "execution_count": 15,
      "outputs": [],
      "metadata": {},
      "source": [
        "linear_regressor = LinearRegression()  # create object for the class\n",
        "linear_regressor.fit(x_train, y_train)  # perform linear regression\n",
        "y_predict = linear_regressor.predict(x_test)  # make predictions"
      ],
      "attachments": {}
    },
    {
      "cell_type": "markdown",
      "metadata": {},
      "source": [
        "## Step 7\n",
        "Model Accuracy\n",
        ""
      ],
      "attachments": {}
    },
    {
      "cell_type": "code",
      "execution_count": 16,
      "outputs": [
        {
          "output_type": "execute_result",
          "execution_count": 16,
          "data": {
            "text/plain": "5.486396045068067"
          },
          "metadata": {}
        }
      ],
      "metadata": {},
      "source": [
        "from sklearn.metrics import mean_squared_error\n",
        "from math import sqrt\n",
        "\n",
        "y_actual = y_test.values.flatten().tolist()\n",
        "rmse = sqrt(mean_squared_error(y_actual, y_predict))\n",
        "rmse"
      ],
      "attachments": {}
    },
    {
      "cell_type": "code",
      "execution_count": 17,
      "outputs": [
        {
          "output_type": "execute_result",
          "execution_count": 17,
          "data": {
            "text/plain": "Model MAPE:\n0.1885697743674144\n\nModel Accuracy:\n0.8114302256325856"
          },
          "metadata": {}
        }
      ],
      "metadata": {},
      "source": [
        "sum_actuals = sum_errors = 0\n",
        "\n",
        "for actual_val, predict_val in zip(y_actual, y_predict):\n",
        "    abs_error = actual_val - predict_val\n",
        "    if abs_error < 0:\n",
        "        abs_error = abs_error * -1\n",
        "\n",
        "    sum_errors = sum_errors + abs_error\n",
        "    sum_actuals = sum_actuals + actual_val\n",
        "\n",
        "mean_abs_percent_error = sum_errors / sum_actuals\n",
        "print(\"Model MAPE:\")\n",
        "print(mean_abs_percent_error)\n",
        "print()\n",
        "print(\"Model Accuracy:\")\n",
        "print(1 - mean_abs_percent_error)"
      ],
      "attachments": {}
    },
    {
      "cell_type": "markdown",
      "metadata": {},
      "source": [
        "## Step 8 \n",
        "Visualization of model fit\n",
        ""
      ],
      "attachments": {}
    },
    {
      "cell_type": "code",
      "execution_count": 18,
      "outputs": [
        {
          "output_type": "execute_result",
          "execution_count": 18,
          "data": {
            "image/png": "data:image/png;base64,iVBORw0KGgoAAAANSUhEUgAAAigAAAGeCAYAAAC+dvpwAAAABHNCSVQICAgIfAhkiAAAAAlwSFlz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"
          },
          "metadata": {}
        }
      ],
      "metadata": {},
      "source": [
        "plt.cla()   # Clear axis\n",
        "plt.clf()   # Clear figure\n",
        "plt.scatter(x_df, y_df)\n",
        "plt.plot(x_test, y_predict, color='red')\n",
        "plt.show()"
      ],
      "attachments": {}
    }
  ]
}